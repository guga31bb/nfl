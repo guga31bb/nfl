{
  "nbformat": 4,
  "nbformat_minor": 0,
  "metadata": {
    "colab": {
      "name": "COVID Python Starter",
      "provenance": []
    },
    "kernelspec": {
      "name": "python3",
      "display_name": "Python 3"
    }
  },
  "cells": [
    {
      "cell_type": "code",
      "metadata": {
        "id": "4wmnvEyFiiCV",
        "colab_type": "code",
        "colab": {}
      },
      "source": [
        "import pandas as pd\n",
        "from plotly import graph_objs as go\n",
        "import plotly.express as px\n",
        "import numpy as np\n",
        "pd.set_option('mode.chained_assignment', None)"
      ],
      "execution_count": 0,
      "outputs": []
    },
    {
      "cell_type": "code",
      "metadata": {
        "id": "jNXlLWw-ijB6",
        "colab_type": "code",
        "colab": {
          "base_uri": "https://localhost:8080/",
          "height": 34
        },
        "outputId": "f9cb26fd-a4b3-4b41-9305-cb9235d355cb"
      },
      "source": [
        "#READ DATA IN FROM GITHUB\n",
        "#deaths=pd.read_csv('https://raw.githubusercontent.com/CSSEGISandData/COVID-19/master/csse_covid_19_data/csse_covid_19_time_series/time_series_19-covid-Deaths.csv')\n",
        "\n",
        "#new deaths file from JHU\n",
        "deaths=pd.read_csv('https://raw.githubusercontent.com/CSSEGISandData/COVID-19/master/csse_covid_19_data/csse_covid_19_time_series/time_series_covid19_deaths_global.csv')\n",
        "\n",
        "#UNPIVOT INTO A LONG DF and RENAME COLUMNS\n",
        "deaths2 = pd.melt(deaths,id_vars=['Province/State','Country/Region','Lat','Long'])\n",
        "deaths2.rename(columns={\"variable\": \"date\", \"value\": \"deaths\"},inplace=True)\n",
        "\n",
        "#SET DATE DATATYPE\n",
        "deaths2['date'] = pd.to_datetime(deaths2['date'])\n",
        "deaths_agg = pd.DataFrame(deaths2.groupby(['Country/Region','date'])['deaths'].sum()).reset_index()\n",
        "\n",
        "#LIMIT TO COUNTRIES OF INTEREST\n",
        "countries_of_interest = ['US','China','Italy','Spain','Iran','France','Korea, South','Japan','United Kingdom']\n",
        "final = deaths_agg[deaths_agg['Country/Region'].isin(countries_of_interest)]\n",
        "\n",
        "#GET FIRST DATE WHERE DEATHS > 10 and START COUNTING FROM THERE\n",
        "final['d10'] = np.where(final['deaths']>= 10,1,0)\n",
        "final['days_since_10']=final.groupby(by=['Country/Region'])['d10'].cumsum()\n",
        "\n",
        "#LIMIT TO ONLY FIRST 35 DAYS SINCE 10 DEATHS\n",
        "final_use = final[final['days_since_10']<=35]\n",
        "\n",
        "print(\"The most recent day is\", np.max(final_use['date']))"
      ],
      "execution_count": 8,
      "outputs": [
        {
          "output_type": "stream",
          "text": [
            "The most recent day is 2020-03-27 00:00:00\n"
          ],
          "name": "stdout"
        }
      ]
    },
    {
      "cell_type": "code",
      "metadata": {
        "id": "hmuuAX-XtZ7a",
        "colab_type": "code",
        "colab": {
          "base_uri": "https://localhost:8080/",
          "height": 255
        },
        "outputId": "06d9ab2e-bf7d-4c90-e5dd-7c281b1564e8"
      },
      "source": [
        "print(final_use)"
      ],
      "execution_count": 27,
      "outputs": [
        {
          "output_type": "stream",
          "text": [
            "       Country/Region       date  deaths  d10  days_since_10  recent\n",
            "2244            China 2020-01-22      17    1              1       0\n",
            "2245            China 2020-01-23      18    1              2       0\n",
            "2246            China 2020-01-24      26    1              3       0\n",
            "2247            China 2020-01-25      42    1              4       0\n",
            "2248            China 2020-01-26      56    1              5       0\n",
            "...               ...        ...     ...  ...            ...     ...\n",
            "11149  United Kingdom 2020-03-23     336    1             10       0\n",
            "11150  United Kingdom 2020-03-24     423    1             11       0\n",
            "11151  United Kingdom 2020-03-25     466    1             12       0\n",
            "11152  United Kingdom 2020-03-26     580    1             13       0\n",
            "11153  United Kingdom 2020-03-27     761    1             14       1\n",
            "\n",
            "[563 rows x 6 columns]\n"
          ],
          "name": "stdout"
        }
      ]
    },
    {
      "cell_type": "code",
      "metadata": {
        "id": "ew2PHfQwckLn",
        "colab_type": "code",
        "colab": {
          "base_uri": "https://localhost:8080/",
          "height": 517
        },
        "outputId": "d2d6b257-b799-41ba-bce0-e716321bf11a"
      },
      "source": [
        "#PLOT USING PLOTLY, LOOP OVER COUNTRIES TO GET ANNOTATION POINTS\n",
        "fig = go.Figure()\n",
        "annotations = []\n",
        "i = 0\n",
        "\n",
        "for c in countries_of_interest:\n",
        "    color = px.colors.qualitative.G10[i]\n",
        "\n",
        "    annotations.append(go.layout.Annotation(\n",
        "        x = final_use[final_use['Country/Region']=='{}'.format(c)].iloc[-1]['days_since_10'],\n",
        "        y = final_use[final_use['Country/Region']=='{}'.format(c)].iloc[-1]['deaths'],\n",
        "        text=c,\n",
        "        font=dict(\n",
        "            family=\"Franklin Gothic\",\n",
        "            size=16,\n",
        "            color=\"black\"\n",
        "            ))\n",
        "        )\n",
        "\n",
        "    #make the data in a bad way\n",
        "    tmp = final_use[final_use['Country/Region'].isin([c])]\n",
        "    y1= tmp['deaths']\n",
        "    x1 = tmp['days_since_10']\n",
        "\n",
        "    #this lets us control the lines\n",
        "    fig.add_trace(go.Scatter(x=x1, y=y1, name = c, mode='lines+markers', line=dict(color = color, width=3)))\n",
        "    i += 1\n",
        "\n",
        "fig.update(layout=go.Layout(showlegend=False, annotations=annotations, height=500, width=1000))\n",
        "fig.update_layout(\n",
        "    title={\n",
        "      'text': \"COVID-19 tracker: Deaths since 10th death\",\n",
        "      'y':0.9,\n",
        "      'x':0.5,\n",
        "      'xanchor': 'center',\n",
        "      'yanchor': 'top'},\n",
        "    xaxis_title=\"Days since 10th death\"\n",
        ")\n",
        "\n",
        "max = np.max(final_use['date'])\n",
        "note = 'Updated ' + str(max.month) + '-' + str(max.day)\n",
        "fig.add_annotation(\n",
        "        x=5,\n",
        "        y=9000,\n",
        "        xref=\"x\",\n",
        "        yref=\"y\",\n",
        "        text=note,\n",
        "        showarrow=False,\n",
        "        font=dict(\n",
        "            family=\"Courier New, monospace\",\n",
        "            size=16,\n",
        "            color=\"red\"\n",
        "            ),\n",
        "        align=\"center\",\n",
        "        ax=20,\n",
        "        ay=-30,\n",
        "        bordercolor=\"black\",\n",
        "        borderwidth=2,\n",
        "        borderpad=4,\n",
        "        bgcolor=\"white\",\n",
        "        opacity=0.8\n",
        "        )\n",
        "\n",
        "fig.add_annotation(\n",
        "    x=5,\n",
        "    y=8000,\n",
        "    text=\"Source: JHU\",\n",
        "    showarrow=False,\n",
        "    font=dict(\n",
        "      family=\"Courier New, monospace\",\n",
        "      size=16,\n",
        "      color=\"red\"\n",
        "      ),\n",
        ")\n",
        "\n",
        "\n",
        "#print(fig.layout)\n",
        "fig.layout.template = 'plotly_white'\n",
        "fig.layout.template = 'presentation'\n",
        "\n",
        "fig.show()\n"
      ],
      "execution_count": 152,
      "outputs": [
        {
          "output_type": "display_data",
          "data": {
            "text/html": [
              "<html>\n",
              "<head><meta charset=\"utf-8\" /></head>\n",
              "<body>\n",
              "    <div>\n",
              "            <script src=\"https://cdnjs.cloudflare.com/ajax/libs/mathjax/2.7.5/MathJax.js?config=TeX-AMS-MML_SVG\"></script><script type=\"text/javascript\">if (window.MathJax) {MathJax.Hub.Config({SVG: {font: \"STIX-Web\"}});}</script>\n",
              "                <script type=\"text/javascript\">window.PlotlyConfig = {MathJaxConfig: 'local'};</script>\n",
              "        <script src=\"https://cdn.plot.ly/plotly-latest.min.js\"></script>    \n",
              "            <div id=\"a318bb97-4d51-40e0-b6e8-1eb9a3e9141b\" class=\"plotly-graph-div\" style=\"height:500px; width:1000px;\"></div>\n",
              "            <script type=\"text/javascript\">\n",
              "                \n",
              "                    window.PLOTLYENV=window.PLOTLYENV || {};\n",
              "                    \n",
              "                if (document.getElementById(\"a318bb97-4d51-40e0-b6e8-1eb9a3e9141b\")) {\n",
              "                    Plotly.newPlot(\n",
              "                        'a318bb97-4d51-40e0-b6e8-1eb9a3e9141b',\n",
              "                        [{\"line\": {\"color\": \"#3366CC\", \"width\": 3}, \"mode\": \"lines+markers\", \"name\": \"US\", \"type\": \"scatter\", \"x\": [0, 0, 0, 0, 0, 0, 0, 0, 0, 0, 0, 0, 0, 0, 0, 0, 0, 0, 0, 0, 0, 0, 0, 0, 0, 0, 0, 0, 0, 0, 0, 0, 0, 0, 0, 0, 0, 0, 0, 0, 0, 0, 1, 2, 3, 4, 5, 6, 7, 8, 9, 10, 11, 12, 13, 14, 15, 16, 17, 18, 19, 20, 21, 22, 23, 24], \"y\": [0, 0, 0, 0, 0, 0, 0, 0, 0, 0, 0, 0, 0, 0, 0, 0, 0, 0, 0, 0, 0, 0, 0, 0, 0, 0, 0, 0, 0, 0, 0, 0, 0, 0, 0, 0, 0, 0, 1, 1, 6, 7, 11, 12, 14, 17, 21, 22, 28, 36, 40, 47, 54, 63, 85, 108, 118, 200, 244, 307, 417, 557, 706, 942, 1209, 1581]}, {\"line\": {\"color\": \"#DC3912\", \"width\": 3}, \"mode\": \"lines+markers\", \"name\": \"China\", \"type\": \"scatter\", \"x\": [1, 2, 3, 4, 5, 6, 7, 8, 9, 10, 11, 12, 13, 14, 15, 16, 17, 18, 19, 20, 21, 22, 23, 24, 25, 26, 27, 28, 29, 30, 31, 32, 33, 34, 35], \"y\": [17, 18, 26, 42, 56, 82, 131, 133, 171, 213, 259, 361, 425, 491, 563, 633, 718, 805, 905, 1012, 1112, 1117, 1369, 1521, 1663, 1766, 1864, 2003, 2116, 2238, 2238, 2443, 2445, 2595, 2665]}, {\"line\": {\"color\": \"#FF9900\", \"width\": 3}, \"mode\": \"lines+markers\", \"name\": \"Italy\", \"type\": \"scatter\", \"x\": [0, 0, 0, 0, 0, 0, 0, 0, 0, 0, 0, 0, 0, 0, 0, 0, 0, 0, 0, 0, 0, 0, 0, 0, 0, 0, 0, 0, 0, 0, 0, 0, 0, 0, 1, 2, 3, 4, 5, 6, 7, 8, 9, 10, 11, 12, 13, 14, 15, 16, 17, 18, 19, 20, 21, 22, 23, 24, 25, 26, 27, 28, 29, 30, 31, 32], \"y\": [0, 0, 0, 0, 0, 0, 0, 0, 0, 0, 0, 0, 0, 0, 0, 0, 0, 0, 0, 0, 0, 0, 0, 0, 0, 0, 0, 0, 0, 0, 1, 2, 3, 7, 10, 12, 17, 21, 29, 34, 52, 79, 107, 148, 197, 233, 366, 463, 631, 827, 827, 1266, 1441, 1809, 2158, 2503, 2978, 3405, 4032, 4825, 5476, 6077, 6820, 7503, 8215, 9134]}, {\"line\": {\"color\": \"#109618\", \"width\": 3}, \"mode\": \"lines+markers\", \"name\": \"Spain\", \"type\": \"scatter\", \"x\": [0, 0, 0, 0, 0, 0, 0, 0, 0, 0, 0, 0, 0, 0, 0, 0, 0, 0, 0, 0, 0, 0, 0, 0, 0, 0, 0, 0, 0, 0, 0, 0, 0, 0, 0, 0, 0, 0, 0, 0, 0, 0, 0, 0, 0, 1, 2, 3, 4, 5, 6, 7, 8, 9, 10, 11, 12, 13, 14, 15, 16, 17, 18, 19, 20, 21], \"y\": [0, 0, 0, 0, 0, 0, 0, 0, 0, 0, 0, 0, 0, 0, 0, 0, 0, 0, 0, 0, 0, 0, 0, 0, 0, 0, 0, 0, 0, 0, 0, 0, 0, 0, 0, 0, 0, 0, 0, 0, 0, 1, 2, 3, 5, 10, 17, 28, 35, 54, 55, 133, 195, 289, 342, 533, 623, 830, 1043, 1375, 1772, 2311, 2808, 3647, 4365, 5138]}, {\"line\": {\"color\": \"#990099\", \"width\": 3}, \"mode\": \"lines+markers\", \"name\": \"Iran\", \"type\": \"scatter\", \"x\": [0, 0, 0, 0, 0, 0, 0, 0, 0, 0, 0, 0, 0, 0, 0, 0, 0, 0, 0, 0, 0, 0, 0, 0, 0, 0, 0, 0, 0, 0, 0, 0, 0, 1, 2, 3, 4, 5, 6, 7, 8, 9, 10, 11, 12, 13, 14, 15, 16, 17, 18, 19, 20, 21, 22, 23, 24, 25, 26, 27, 28, 29, 30, 31, 32, 33], \"y\": [0, 0, 0, 0, 0, 0, 0, 0, 0, 0, 0, 0, 0, 0, 0, 0, 0, 0, 0, 0, 0, 0, 0, 0, 0, 0, 0, 0, 2, 2, 4, 5, 8, 12, 16, 19, 26, 34, 43, 54, 66, 77, 92, 107, 124, 145, 194, 237, 291, 354, 429, 514, 611, 724, 853, 988, 1135, 1284, 1433, 1556, 1685, 1812, 1934, 2077, 2234, 2378]}, {\"line\": {\"color\": \"#0099C6\", \"width\": 3}, \"mode\": \"lines+markers\", \"name\": \"France\", \"type\": \"scatter\", \"x\": [0, 0, 0, 0, 0, 0, 0, 0, 0, 0, 0, 0, 0, 0, 0, 0, 0, 0, 0, 0, 0, 0, 0, 0, 0, 0, 0, 0, 0, 0, 0, 0, 0, 0, 0, 0, 0, 0, 0, 0, 0, 0, 0, 0, 0, 1, 2, 3, 4, 5, 6, 7, 8, 9, 10, 11, 12, 13, 14, 15, 16, 17, 18, 19, 20, 21], \"y\": [0, 0, 0, 0, 0, 0, 0, 0, 0, 0, 0, 0, 0, 0, 0, 0, 0, 0, 0, 0, 0, 0, 0, 0, 1, 1, 1, 1, 1, 1, 1, 1, 1, 1, 1, 2, 2, 2, 2, 2, 3, 4, 4, 6, 9, 11, 19, 19, 33, 48, 48, 79, 91, 91, 149, 149, 149, 244, 451, 563, 676, 862, 1102, 1333, 1698, 1997]}, {\"line\": {\"color\": \"#DD4477\", \"width\": 3}, \"mode\": \"lines+markers\", \"name\": \"Korea, South\", \"type\": \"scatter\", \"x\": [0, 0, 0, 0, 0, 0, 0, 0, 0, 0, 0, 0, 0, 0, 0, 0, 0, 0, 0, 0, 0, 0, 0, 0, 0, 0, 0, 0, 0, 0, 0, 0, 0, 0, 1, 2, 3, 4, 5, 6, 7, 8, 9, 10, 11, 12, 13, 14, 15, 16, 17, 18, 19, 20, 21, 22, 23, 24, 25, 26, 27, 28, 29, 30, 31, 32], \"y\": [0, 0, 0, 0, 0, 0, 0, 0, 0, 0, 0, 0, 0, 0, 0, 0, 0, 0, 0, 0, 0, 0, 0, 0, 0, 0, 0, 0, 0, 1, 2, 2, 6, 8, 10, 12, 13, 13, 16, 17, 28, 28, 35, 35, 42, 44, 50, 53, 54, 60, 66, 66, 72, 75, 75, 81, 84, 91, 94, 102, 111, 111, 120, 126, 131, 139]}, {\"line\": {\"color\": \"#66AA00\", \"width\": 3}, \"mode\": \"lines+markers\", \"name\": \"Japan\", \"type\": \"scatter\", \"x\": [0, 0, 0, 0, 0, 0, 0, 0, 0, 0, 0, 0, 0, 0, 0, 0, 0, 0, 0, 0, 0, 0, 0, 0, 0, 0, 0, 0, 0, 0, 0, 0, 0, 0, 0, 0, 0, 0, 0, 0, 0, 0, 0, 0, 0, 0, 0, 1, 2, 3, 4, 5, 6, 7, 8, 9, 10, 11, 12, 13, 14, 15, 16, 17, 18, 19], \"y\": [0, 0, 0, 0, 0, 0, 0, 0, 0, 0, 0, 0, 0, 0, 0, 0, 0, 0, 0, 0, 0, 0, 1, 1, 1, 1, 1, 1, 1, 1, 1, 1, 1, 1, 1, 2, 4, 4, 5, 6, 6, 6, 6, 6, 6, 6, 6, 10, 10, 15, 16, 19, 22, 22, 27, 29, 29, 29, 33, 35, 41, 42, 43, 45, 47, 49]}, {\"line\": {\"color\": \"#B82E2E\", \"width\": 3}, \"mode\": \"lines+markers\", \"name\": \"United Kingdom\", \"type\": \"scatter\", \"x\": [0, 0, 0, 0, 0, 0, 0, 0, 0, 0, 0, 0, 0, 0, 0, 0, 0, 0, 0, 0, 0, 0, 0, 0, 0, 0, 0, 0, 0, 0, 0, 0, 0, 0, 0, 0, 0, 0, 0, 0, 0, 0, 0, 0, 0, 0, 0, 0, 0, 0, 0, 0, 1, 2, 3, 4, 5, 6, 7, 8, 9, 10, 11, 12, 13, 14], \"y\": [0, 0, 0, 0, 0, 0, 0, 0, 0, 0, 0, 0, 0, 0, 0, 0, 0, 0, 0, 0, 0, 0, 0, 0, 0, 0, 0, 0, 0, 0, 0, 0, 0, 0, 0, 0, 0, 0, 0, 0, 0, 0, 0, 1, 2, 2, 3, 4, 6, 8, 8, 8, 21, 21, 56, 56, 72, 138, 178, 234, 282, 336, 423, 466, 580, 761]}],\n",
              "                        {\"annotations\": [{\"font\": {\"color\": \"black\", \"family\": \"Franklin Gothic\", \"size\": 16}, \"text\": \"US\", \"x\": 24, \"y\": 1581}, {\"font\": {\"color\": \"black\", \"family\": \"Franklin Gothic\", \"size\": 16}, \"text\": \"China\", \"x\": 35, \"y\": 2665}, {\"font\": {\"color\": \"black\", \"family\": \"Franklin Gothic\", \"size\": 16}, \"text\": \"Italy\", \"x\": 32, \"y\": 9134}, {\"font\": {\"color\": \"black\", \"family\": \"Franklin Gothic\", \"size\": 16}, \"text\": \"Spain\", \"x\": 21, \"y\": 5138}, {\"font\": {\"color\": \"black\", \"family\": \"Franklin Gothic\", \"size\": 16}, \"text\": \"Iran\", \"x\": 33, \"y\": 2378}, {\"font\": {\"color\": \"black\", \"family\": \"Franklin Gothic\", \"size\": 16}, \"text\": \"France\", \"x\": 21, \"y\": 1997}, {\"font\": {\"color\": \"black\", \"family\": \"Franklin Gothic\", \"size\": 16}, \"text\": \"Korea, South\", \"x\": 32, \"y\": 139}, {\"font\": {\"color\": \"black\", \"family\": \"Franklin Gothic\", \"size\": 16}, \"text\": \"Japan\", \"x\": 19, \"y\": 49}, {\"font\": {\"color\": \"black\", \"family\": \"Franklin Gothic\", \"size\": 16}, \"text\": \"United Kingdom\", \"x\": 14, \"y\": 761}, {\"align\": \"center\", \"ax\": 20, \"ay\": -30, \"bgcolor\": \"white\", \"bordercolor\": \"black\", \"borderpad\": 4, \"borderwidth\": 2, \"font\": {\"color\": \"red\", \"family\": \"Courier New, monospace\", \"size\": 16}, \"opacity\": 0.8, \"showarrow\": false, \"text\": \"Updated 3-27\", \"x\": 5, \"xref\": \"x\", \"y\": 9000, \"yref\": \"y\"}, {\"font\": {\"color\": \"red\", \"family\": \"Courier New, monospace\", \"size\": 16}, \"showarrow\": false, \"text\": \"Source: JHU\", \"x\": 5, \"y\": 8000}], \"height\": 500, \"showlegend\": false, \"template\": {\"data\": {\"pie\": [{\"automargin\": true, \"type\": \"pie\"}], \"scatter\": [{\"line\": {\"width\": 3}, \"marker\": {\"size\": 9}, \"type\": \"scatter\"}], \"scatter3d\": [{\"line\": {\"width\": 3}, \"marker\": {\"size\": 9}, \"type\": \"scatter3d\"}], \"scattergeo\": [{\"line\": {\"width\": 3}, \"marker\": {\"size\": 9}, \"type\": \"scattergeo\"}], \"scattergl\": [{\"line\": {\"width\": 3}, \"marker\": {\"size\": 9}, \"type\": \"scattergl\"}], \"scatterpolar\": [{\"line\": {\"width\": 3}, \"marker\": {\"size\": 9}, \"type\": \"scatterpolar\"}], \"scatterpolargl\": [{\"line\": {\"width\": 3}, \"marker\": {\"size\": 9}, \"type\": \"scatterpolargl\"}], \"scatterternary\": [{\"line\": {\"width\": 3}, \"marker\": {\"size\": 9}, \"type\": \"scatterternary\"}], \"table\": [{\"cells\": {\"height\": 30}, \"header\": {\"height\": 36}, \"type\": \"table\"}]}, \"layout\": {\"font\": {\"size\": 18}, \"xaxis\": {\"title\": {\"standoff\": 15}}, \"yaxis\": {\"title\": {\"standoff\": 15}}}}, \"title\": {\"text\": \"COVID-19 tracker: Deaths since 10th death\", \"x\": 0.5, \"xanchor\": \"center\", \"y\": 0.9, \"yanchor\": \"top\"}, \"width\": 1000, \"xaxis\": {\"title\": {\"text\": \"Days since 10th death\"}}},\n",
              "                        {\"responsive\": true}\n",
              "                    ).then(function(){\n",
              "                            \n",
              "var gd = document.getElementById('a318bb97-4d51-40e0-b6e8-1eb9a3e9141b');\n",
              "var x = new MutationObserver(function (mutations, observer) {{\n",
              "        var display = window.getComputedStyle(gd).display;\n",
              "        if (!display || display === 'none') {{\n",
              "            console.log([gd, 'removed!']);\n",
              "            Plotly.purge(gd);\n",
              "            observer.disconnect();\n",
              "        }}\n",
              "}});\n",
              "\n",
              "// Listen for the removal of the full notebook cells\n",
              "var notebookContainer = gd.closest('#notebook-container');\n",
              "if (notebookContainer) {{\n",
              "    x.observe(notebookContainer, {childList: true});\n",
              "}}\n",
              "\n",
              "// Listen for the clearing of the current output cell\n",
              "var outputEl = gd.closest('.output');\n",
              "if (outputEl) {{\n",
              "    x.observe(outputEl, {childList: true});\n",
              "}}\n",
              "\n",
              "                        })\n",
              "                };\n",
              "                \n",
              "            </script>\n",
              "        </div>\n",
              "</body>\n",
              "</html>"
            ]
          },
          "metadata": {
            "tags": []
          }
        }
      ]
    },
    {
      "cell_type": "code",
      "metadata": {
        "id": "CWNBu6e-wqbF",
        "colab_type": "code",
        "colab": {}
      },
      "source": [
        ""
      ],
      "execution_count": 0,
      "outputs": []
    }
  ]
}